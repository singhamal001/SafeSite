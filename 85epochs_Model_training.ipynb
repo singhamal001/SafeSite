{
  "nbformat": 4,
  "nbformat_minor": 0,
  "metadata": {
    "colab": {
      "provenance": [],
      "gpuType": "T4"
    },
    "kernelspec": {
      "name": "python3",
      "display_name": "Python 3"
    },
    "language_info": {
      "name": "python"
    },
    "accelerator": "GPU"
  },
  "cells": [
    {
      "cell_type": "code",
      "source": [
        "!pip install ultralytics"
      ],
      "metadata": {
        "colab": {
          "base_uri": "https://localhost:8080/"
        },
        "id": "e-a8PPfVE-t0",
        "outputId": "559d7784-8fff-4f3e-9b37-7d638a24f95f"
      },
      "execution_count": null,
      "outputs": [
        {
          "output_type": "stream",
          "name": "stdout",
          "text": [
            "Collecting ultralytics\n",
            "  Downloading ultralytics-8.1.10-py3-none-any.whl (709 kB)\n",
            "\u001b[2K     \u001b[90m━━━━━━━━━━━━━━━━━━━━━━━━━━━━━━━━━━━━━━━━\u001b[0m \u001b[32m709.4/709.4 kB\u001b[0m \u001b[31m9.9 MB/s\u001b[0m eta \u001b[36m0:00:00\u001b[0m\n",
            "\u001b[?25hRequirement already satisfied: matplotlib>=3.3.0 in /usr/local/lib/python3.10/dist-packages (from ultralytics) (3.7.1)\n",
            "Requirement already satisfied: numpy>=1.22.2 in /usr/local/lib/python3.10/dist-packages (from ultralytics) (1.23.5)\n",
            "Requirement already satisfied: opencv-python>=4.6.0 in /usr/local/lib/python3.10/dist-packages (from ultralytics) (4.8.0.76)\n",
            "Requirement already satisfied: pillow>=7.1.2 in /usr/local/lib/python3.10/dist-packages (from ultralytics) (9.4.0)\n",
            "Requirement already satisfied: pyyaml>=5.3.1 in /usr/local/lib/python3.10/dist-packages (from ultralytics) (6.0.1)\n",
            "Requirement already satisfied: requests>=2.23.0 in /usr/local/lib/python3.10/dist-packages (from ultralytics) (2.31.0)\n",
            "Requirement already satisfied: scipy>=1.4.1 in /usr/local/lib/python3.10/dist-packages (from ultralytics) (1.11.4)\n",
            "Requirement already satisfied: torch>=1.8.0 in /usr/local/lib/python3.10/dist-packages (from ultralytics) (2.1.0+cu121)\n",
            "Requirement already satisfied: torchvision>=0.9.0 in /usr/local/lib/python3.10/dist-packages (from ultralytics) (0.16.0+cu121)\n",
            "Requirement already satisfied: tqdm>=4.64.0 in /usr/local/lib/python3.10/dist-packages (from ultralytics) (4.66.1)\n",
            "Requirement already satisfied: psutil in /usr/local/lib/python3.10/dist-packages (from ultralytics) (5.9.5)\n",
            "Requirement already satisfied: py-cpuinfo in /usr/local/lib/python3.10/dist-packages (from ultralytics) (9.0.0)\n",
            "Collecting thop>=0.1.1 (from ultralytics)\n",
            "  Downloading thop-0.1.1.post2209072238-py3-none-any.whl (15 kB)\n",
            "Requirement already satisfied: pandas>=1.1.4 in /usr/local/lib/python3.10/dist-packages (from ultralytics) (1.5.3)\n",
            "Requirement already satisfied: seaborn>=0.11.0 in /usr/local/lib/python3.10/dist-packages (from ultralytics) (0.13.1)\n",
            "Requirement already satisfied: contourpy>=1.0.1 in /usr/local/lib/python3.10/dist-packages (from matplotlib>=3.3.0->ultralytics) (1.2.0)\n",
            "Requirement already satisfied: cycler>=0.10 in /usr/local/lib/python3.10/dist-packages (from matplotlib>=3.3.0->ultralytics) (0.12.1)\n",
            "Requirement already satisfied: fonttools>=4.22.0 in /usr/local/lib/python3.10/dist-packages (from matplotlib>=3.3.0->ultralytics) (4.47.2)\n",
            "Requirement already satisfied: kiwisolver>=1.0.1 in /usr/local/lib/python3.10/dist-packages (from matplotlib>=3.3.0->ultralytics) (1.4.5)\n",
            "Requirement already satisfied: packaging>=20.0 in /usr/local/lib/python3.10/dist-packages (from matplotlib>=3.3.0->ultralytics) (23.2)\n",
            "Requirement already satisfied: pyparsing>=2.3.1 in /usr/local/lib/python3.10/dist-packages (from matplotlib>=3.3.0->ultralytics) (3.1.1)\n",
            "Requirement already satisfied: python-dateutil>=2.7 in /usr/local/lib/python3.10/dist-packages (from matplotlib>=3.3.0->ultralytics) (2.8.2)\n",
            "Requirement already satisfied: pytz>=2020.1 in /usr/local/lib/python3.10/dist-packages (from pandas>=1.1.4->ultralytics) (2023.4)\n",
            "Requirement already satisfied: charset-normalizer<4,>=2 in /usr/local/lib/python3.10/dist-packages (from requests>=2.23.0->ultralytics) (3.3.2)\n",
            "Requirement already satisfied: idna<4,>=2.5 in /usr/local/lib/python3.10/dist-packages (from requests>=2.23.0->ultralytics) (3.6)\n",
            "Requirement already satisfied: urllib3<3,>=1.21.1 in /usr/local/lib/python3.10/dist-packages (from requests>=2.23.0->ultralytics) (2.0.7)\n",
            "Requirement already satisfied: certifi>=2017.4.17 in /usr/local/lib/python3.10/dist-packages (from requests>=2.23.0->ultralytics) (2024.2.2)\n",
            "Requirement already satisfied: filelock in /usr/local/lib/python3.10/dist-packages (from torch>=1.8.0->ultralytics) (3.13.1)\n",
            "Requirement already satisfied: typing-extensions in /usr/local/lib/python3.10/dist-packages (from torch>=1.8.0->ultralytics) (4.9.0)\n",
            "Requirement already satisfied: sympy in /usr/local/lib/python3.10/dist-packages (from torch>=1.8.0->ultralytics) (1.12)\n",
            "Requirement already satisfied: networkx in /usr/local/lib/python3.10/dist-packages (from torch>=1.8.0->ultralytics) (3.2.1)\n",
            "Requirement already satisfied: jinja2 in /usr/local/lib/python3.10/dist-packages (from torch>=1.8.0->ultralytics) (3.1.3)\n",
            "Requirement already satisfied: fsspec in /usr/local/lib/python3.10/dist-packages (from torch>=1.8.0->ultralytics) (2023.6.0)\n",
            "Requirement already satisfied: triton==2.1.0 in /usr/local/lib/python3.10/dist-packages (from torch>=1.8.0->ultralytics) (2.1.0)\n",
            "Requirement already satisfied: six>=1.5 in /usr/local/lib/python3.10/dist-packages (from python-dateutil>=2.7->matplotlib>=3.3.0->ultralytics) (1.16.0)\n",
            "Requirement already satisfied: MarkupSafe>=2.0 in /usr/local/lib/python3.10/dist-packages (from jinja2->torch>=1.8.0->ultralytics) (2.1.5)\n",
            "Requirement already satisfied: mpmath>=0.19 in /usr/local/lib/python3.10/dist-packages (from sympy->torch>=1.8.0->ultralytics) (1.3.0)\n",
            "Installing collected packages: thop, ultralytics\n",
            "Successfully installed thop-0.1.1.post2209072238 ultralytics-8.1.10\n"
          ]
        }
      ]
    },
    {
      "cell_type": "markdown",
      "source": [
        "## Setting Working Directory"
      ],
      "metadata": {
        "id": "wb_E2aADGEcy"
      }
    },
    {
      "cell_type": "code",
      "source": [
        "import os\n",
        "HOME = os.getcwd()\n",
        "print(HOME)"
      ],
      "metadata": {
        "colab": {
          "base_uri": "https://localhost:8080/"
        },
        "id": "z-YE-TotFHco",
        "outputId": "41b8983f-b43a-4a33-c69a-95db0ad0d0e0"
      },
      "execution_count": null,
      "outputs": [
        {
          "output_type": "stream",
          "name": "stdout",
          "text": [
            "/content\n"
          ]
        }
      ]
    },
    {
      "cell_type": "code",
      "source": [
        "from google.colab import drive\n",
        "drive.mount('/content/drive')"
      ],
      "metadata": {
        "colab": {
          "base_uri": "https://localhost:8080/"
        },
        "id": "cZ-krCC5FZdS",
        "outputId": "209f0f9b-047e-4ba6-e4a7-5eff53b49499"
      },
      "execution_count": null,
      "outputs": [
        {
          "output_type": "stream",
          "name": "stdout",
          "text": [
            "Mounted at /content/drive\n"
          ]
        }
      ]
    },
    {
      "cell_type": "code",
      "source": [
        "os.chdir(\"/content/drive/MyDrive/CV-Project\")"
      ],
      "metadata": {
        "id": "d222ObUWFgi0"
      },
      "execution_count": null,
      "outputs": []
    },
    {
      "cell_type": "code",
      "source": [
        "os.getcwd()"
      ],
      "metadata": {
        "colab": {
          "base_uri": "https://localhost:8080/",
          "height": 35
        },
        "id": "UQH5RWc2FpLz",
        "outputId": "50feb83f-b466-4478-9d4d-d1525c45e09f"
      },
      "execution_count": null,
      "outputs": [
        {
          "output_type": "execute_result",
          "data": {
            "text/plain": [
              "'/content/drive/MyDrive/CV-Project'"
            ],
            "application/vnd.google.colaboratory.intrinsic+json": {
              "type": "string"
            }
          },
          "metadata": {},
          "execution_count": 5
        }
      ]
    },
    {
      "cell_type": "code",
      "source": [
        "%ls"
      ],
      "metadata": {
        "colab": {
          "base_uri": "https://localhost:8080/"
        },
        "id": "sFvkFDOvK9Vf",
        "outputId": "16c73b8f-a97a-40ff-dee1-25fb94081659"
      },
      "execution_count": null,
      "outputs": [
        {
          "output_type": "stream",
          "name": "stdout",
          "text": [
            "\u001b[0m\u001b[01;34mdatasets\u001b[0m/  data.yaml  last_47epochs.pt  main.ipynb  \u001b[01;34mruns\u001b[0m/  yolov8n.pt  yolov8s.pt\n"
          ]
        }
      ]
    },
    {
      "cell_type": "markdown",
      "source": [
        "## Installing Yolo and Importing it"
      ],
      "metadata": {
        "id": "LnSmyu3RGQgH"
      }
    },
    {
      "cell_type": "code",
      "source": [
        "!pip install ultralytics==8.0.20\n",
        "\n",
        "from IPython import display\n",
        "display.clear_output()\n",
        "\n",
        "import ultralytics\n",
        "ultralytics.checks()"
      ],
      "metadata": {
        "colab": {
          "base_uri": "https://localhost:8080/"
        },
        "id": "YvpwMDFiGByL",
        "outputId": "af73d65b-58bb-4408-9fb0-9618a66f45fd"
      },
      "execution_count": null,
      "outputs": [
        {
          "output_type": "stream",
          "name": "stderr",
          "text": [
            "Ultralytics YOLOv8.0.20 🚀 Python-3.10.12 torch-2.1.0+cu121 CUDA:0 (Tesla T4, 15102MiB)\n",
            "Setup complete ✅ (2 CPUs, 12.7 GB RAM, 26.4/78.2 GB disk)\n"
          ]
        }
      ]
    },
    {
      "cell_type": "code",
      "source": [
        "from ultralytics import YOLO\n",
        "from IPython.display import display, Image"
      ],
      "metadata": {
        "id": "HreScZdZGTWo"
      },
      "execution_count": null,
      "outputs": []
    },
    {
      "cell_type": "code",
      "source": [
        "!yolo task=detect mode=train model=yolov8n.pt data=data.yaml epochs=1 imgsz=640 plots=True"
      ],
      "metadata": {
        "colab": {
          "base_uri": "https://localhost:8080/"
        },
        "id": "nszh-6wqGchz",
        "outputId": "7224394d-4067-4894-fe3c-b5aa8ca0bb8a"
      },
      "execution_count": null,
      "outputs": [
        {
          "output_type": "stream",
          "name": "stdout",
          "text": [
            "Ultralytics YOLOv8.0.20 🚀 Python-3.10.12 torch-2.1.0+cu121 CUDA:0 (Tesla T4, 15102MiB)\n",
            "\u001b[34m\u001b[1myolo/engine/trainer: \u001b[0mtask=detect, mode=train, model=yolov8n.yaml, data=data.yaml, epochs=1, patience=50, batch=16, imgsz=640, save=True, cache=False, device=, workers=8, project=None, name=None, exist_ok=False, pretrained=False, optimizer=SGD, verbose=True, seed=0, deterministic=True, single_cls=False, image_weights=False, rect=False, cos_lr=False, close_mosaic=10, resume=False, overlap_mask=True, mask_ratio=4, dropout=False, val=True, save_json=False, save_hybrid=False, conf=0.001, iou=0.7, max_det=300, half=False, dnn=False, plots=True, source=ultralytics/assets/, show=False, save_txt=False, save_conf=False, save_crop=False, hide_labels=False, hide_conf=False, vid_stride=1, line_thickness=3, visualize=False, augment=False, agnostic_nms=False, classes=None, retina_masks=False, boxes=True, format=torchscript, keras=False, optimize=False, int8=False, dynamic=False, simplify=False, opset=17, workspace=4, nms=False, lr0=0.01, lrf=0.01, momentum=0.937, weight_decay=0.001, warmup_epochs=3.0, warmup_momentum=0.8, warmup_bias_lr=0.1, box=7.5, cls=0.5, dfl=1.5, fl_gamma=0.0, label_smoothing=0.0, nbs=64, hsv_h=0.015, hsv_s=0.7, hsv_v=0.4, degrees=0.0, translate=0.1, scale=0.5, shear=0.0, perspective=0.0, flipud=0.0, fliplr=0.5, mosaic=1.0, mixup=0.0, copy_paste=0.0, cfg=None, v5loader=False, save_dir=runs/detect/train4\n",
            "Downloading https://ultralytics.com/assets/Arial.ttf to /root/.config/Ultralytics/Arial.ttf...\n",
            "100% 755k/755k [00:00<00:00, 17.1MB/s]\n",
            "2024-02-07 21:27:20.395847: E external/local_xla/xla/stream_executor/cuda/cuda_dnn.cc:9261] Unable to register cuDNN factory: Attempting to register factory for plugin cuDNN when one has already been registered\n",
            "2024-02-07 21:27:20.395912: E external/local_xla/xla/stream_executor/cuda/cuda_fft.cc:607] Unable to register cuFFT factory: Attempting to register factory for plugin cuFFT when one has already been registered\n",
            "2024-02-07 21:27:20.397348: E external/local_xla/xla/stream_executor/cuda/cuda_blas.cc:1515] Unable to register cuBLAS factory: Attempting to register factory for plugin cuBLAS when one has already been registered\n",
            "2024-02-07 21:27:21.549490: W tensorflow/compiler/tf2tensorrt/utils/py_utils.cc:38] TF-TRT Warning: Could not find TensorRT\n",
            "Overriding model.yaml nc=80 with nc=4\n",
            "\n",
            "                   from  n    params  module                                       arguments                     \n",
            "  0                  -1  1       464  ultralytics.nn.modules.Conv                  [3, 16, 3, 2]                 \n",
            "  1                  -1  1      4672  ultralytics.nn.modules.Conv                  [16, 32, 3, 2]                \n",
            "  2                  -1  1      7360  ultralytics.nn.modules.C2f                   [32, 32, 1, True]             \n",
            "  3                  -1  1     18560  ultralytics.nn.modules.Conv                  [32, 64, 3, 2]                \n",
            "  4                  -1  2     49664  ultralytics.nn.modules.C2f                   [64, 64, 2, True]             \n",
            "  5                  -1  1     73984  ultralytics.nn.modules.Conv                  [64, 128, 3, 2]               \n",
            "  6                  -1  2    197632  ultralytics.nn.modules.C2f                   [128, 128, 2, True]           \n",
            "  7                  -1  1    295424  ultralytics.nn.modules.Conv                  [128, 256, 3, 2]              \n",
            "  8                  -1  1    460288  ultralytics.nn.modules.C2f                   [256, 256, 1, True]           \n",
            "  9                  -1  1    164608  ultralytics.nn.modules.SPPF                  [256, 256, 5]                 \n",
            " 10                  -1  1         0  torch.nn.modules.upsampling.Upsample         [None, 2, 'nearest']          \n",
            " 11             [-1, 6]  1         0  ultralytics.nn.modules.Concat                [1]                           \n",
            " 12                  -1  1    148224  ultralytics.nn.modules.C2f                   [384, 128, 1]                 \n",
            " 13                  -1  1         0  torch.nn.modules.upsampling.Upsample         [None, 2, 'nearest']          \n",
            " 14             [-1, 4]  1         0  ultralytics.nn.modules.Concat                [1]                           \n",
            " 15                  -1  1     37248  ultralytics.nn.modules.C2f                   [192, 64, 1]                  \n",
            " 16                  -1  1     36992  ultralytics.nn.modules.Conv                  [64, 64, 3, 2]                \n",
            " 17            [-1, 12]  1         0  ultralytics.nn.modules.Concat                [1]                           \n",
            " 18                  -1  1    123648  ultralytics.nn.modules.C2f                   [192, 128, 1]                 \n",
            " 19                  -1  1    147712  ultralytics.nn.modules.Conv                  [128, 128, 3, 2]              \n",
            " 20             [-1, 9]  1         0  ultralytics.nn.modules.Concat                [1]                           \n",
            " 21                  -1  1    493056  ultralytics.nn.modules.C2f                   [384, 256, 1]                 \n",
            " 22        [15, 18, 21]  1    752092  ultralytics.nn.modules.Detect                [4, [64, 128, 256]]           \n",
            "Model summary: 225 layers, 3011628 parameters, 3011612 gradients, 8.2 GFLOPs\n",
            "\n",
            "Transferred 319/355 items from pretrained weights\n",
            "\u001b[34m\u001b[1moptimizer:\u001b[0m SGD(lr=0.01) with parameter groups 57 weight(decay=0.0), 64 weight(decay=0.001), 63 bias\n",
            "\u001b[34m\u001b[1mtrain: \u001b[0mScanning /content/drive/MyDrive/CV-Project/datasets/train/labels.cache... 450 images, 0 backgrounds, 0 corrupt: 100% 450/450 [00:00<?, ?it/s]\n",
            "\u001b[34m\u001b[1malbumentations: \u001b[0mBlur(p=0.01, blur_limit=(3, 7)), MedianBlur(p=0.01, blur_limit=(3, 7)), ToGray(p=0.01), CLAHE(p=0.01, clip_limit=(1, 4.0), tile_grid_size=(8, 8))\n",
            "\u001b[34m\u001b[1mval: \u001b[0mScanning /content/drive/MyDrive/CV-Project/datasets/test/labels.cache... 50 images, 0 backgrounds, 0 corrupt: 100% 50/50 [00:00<?, ?it/s]\n",
            "Image sizes 640 train, 640 val\n",
            "Using 2 dataloader workers\n",
            "Logging results to \u001b[1mruns/detect/train4\u001b[0m\n",
            "Starting training for 1 epochs...\n",
            "\n",
            "      Epoch    GPU_mem   box_loss   cls_loss   dfl_loss  Instances       Size\n",
            "        1/1      3.28G      1.778      3.707      1.569         34        640: 100% 29/29 [04:41<00:00,  9.71s/it]\n",
            "                 Class     Images  Instances      Box(P          R      mAP50  mAP50-95): 100% 2/2 [00:22<00:00, 11.27s/it]\n",
            "                   all         50        216    0.00737      0.491      0.206        0.1\n",
            "                Helmet         50         88     0.0147      0.625       0.44      0.239\n",
            "           Safety vest         50         82    0.00929      0.793      0.347      0.153\n",
            "        No Safety Vest         50         19    0.00464      0.474     0.0363    0.00931\n",
            "             No Helmet         50         27   0.000863     0.0741   0.000557   0.000192\n",
            "\n",
            "1 epochs completed in 0.086 hours.\n",
            "Optimizer stripped from runs/detect/train4/weights/last.pt, 6.2MB\n",
            "Optimizer stripped from runs/detect/train4/weights/best.pt, 6.2MB\n",
            "\n",
            "Validating runs/detect/train4/weights/best.pt...\n",
            "Ultralytics YOLOv8.0.20 🚀 Python-3.10.12 torch-2.1.0+cu121 CUDA:0 (Tesla T4, 15102MiB)\n",
            "Model summary (fused): 168 layers, 3006428 parameters, 0 gradients, 8.1 GFLOPs\n",
            "                 Class     Images  Instances      Box(P          R      mAP50  mAP50-95): 100% 2/2 [00:12<00:00,  6.13s/it]\n",
            "                   all         50        216    0.00737      0.491      0.206        0.1\n",
            "                Helmet         50         88     0.0147      0.625       0.44      0.238\n",
            "           Safety vest         50         82    0.00928      0.793      0.346      0.152\n",
            "        No Safety Vest         50         19    0.00463      0.474     0.0362    0.00942\n",
            "             No Helmet         50         27   0.000864     0.0741   0.000573   0.000172\n",
            "Speed: 0.2ms pre-process, 2.7ms inference, 0.0ms loss, 3.5ms post-process per image\n",
            "Results saved to \u001b[1mruns/detect/train4\u001b[0m\n"
          ]
        }
      ]
    },
    {
      "cell_type": "code",
      "source": [
        "!yolo task=detect mode=train model=last_47epochs.pt data= data.yaml epochs=103 imgsz=640 plots=True"
      ],
      "metadata": {
        "colab": {
          "base_uri": "https://localhost:8080/"
        },
        "id": "7EYkY-q5G7hk",
        "outputId": "d4d260fc-b44b-450d-ccbc-abaf755ef3c3"
      },
      "execution_count": null,
      "outputs": [
        {
          "output_type": "stream",
          "name": "stdout",
          "text": [
            "Ultralytics YOLOv8.0.20 🚀 Python-3.10.12 torch-2.1.0+cu121 CUDA:0 (Tesla T4, 15102MiB)\n",
            "\u001b[34m\u001b[1myolo/engine/trainer: \u001b[0mtask=detect, mode=train, model=yolov8n.yaml, data=data.yaml, epochs=103, patience=50, batch=16, imgsz=640, save=True, cache=False, device=, workers=8, project=None, name=None, exist_ok=False, pretrained=False, optimizer=SGD, verbose=True, seed=0, deterministic=True, single_cls=False, image_weights=False, rect=False, cos_lr=False, close_mosaic=10, resume=False, overlap_mask=True, mask_ratio=4, dropout=False, val=True, save_json=False, save_hybrid=False, conf=0.001, iou=0.7, max_det=300, half=False, dnn=False, plots=True, source=ultralytics/assets/, show=False, save_txt=False, save_conf=False, save_crop=False, hide_labels=False, hide_conf=False, vid_stride=1, line_thickness=3, visualize=False, augment=False, agnostic_nms=False, classes=None, retina_masks=False, boxes=True, format=torchscript, keras=False, optimize=False, int8=False, dynamic=False, simplify=False, opset=17, workspace=4, nms=False, lr0=0.01, lrf=0.01, momentum=0.937, weight_decay=0.001, warmup_epochs=3.0, warmup_momentum=0.8, warmup_bias_lr=0.1, box=7.5, cls=0.5, dfl=1.5, fl_gamma=0.0, label_smoothing=0.0, nbs=64, hsv_h=0.015, hsv_s=0.7, hsv_v=0.4, degrees=0.0, translate=0.1, scale=0.5, shear=0.0, perspective=0.0, flipud=0.0, fliplr=0.5, mosaic=1.0, mixup=0.0, copy_paste=0.0, cfg=None, v5loader=False, save_dir=runs/detect/train5\n",
            "2024-02-07 21:34:17.401802: E external/local_xla/xla/stream_executor/cuda/cuda_dnn.cc:9261] Unable to register cuDNN factory: Attempting to register factory for plugin cuDNN when one has already been registered\n",
            "2024-02-07 21:34:17.401861: E external/local_xla/xla/stream_executor/cuda/cuda_fft.cc:607] Unable to register cuFFT factory: Attempting to register factory for plugin cuFFT when one has already been registered\n",
            "2024-02-07 21:34:17.403205: E external/local_xla/xla/stream_executor/cuda/cuda_blas.cc:1515] Unable to register cuBLAS factory: Attempting to register factory for plugin cuBLAS when one has already been registered\n",
            "2024-02-07 21:34:18.492452: W tensorflow/compiler/tf2tensorrt/utils/py_utils.cc:38] TF-TRT Warning: Could not find TensorRT\n",
            "\n",
            "                   from  n    params  module                                       arguments                     \n",
            "  0                  -1  1       464  ultralytics.nn.modules.Conv                  [3, 16, 3, 2]                 \n",
            "  1                  -1  1      4672  ultralytics.nn.modules.Conv                  [16, 32, 3, 2]                \n",
            "  2                  -1  1      7360  ultralytics.nn.modules.C2f                   [32, 32, 1, True]             \n",
            "  3                  -1  1     18560  ultralytics.nn.modules.Conv                  [32, 64, 3, 2]                \n",
            "  4                  -1  2     49664  ultralytics.nn.modules.C2f                   [64, 64, 2, True]             \n",
            "  5                  -1  1     73984  ultralytics.nn.modules.Conv                  [64, 128, 3, 2]               \n",
            "  6                  -1  2    197632  ultralytics.nn.modules.C2f                   [128, 128, 2, True]           \n",
            "  7                  -1  1    295424  ultralytics.nn.modules.Conv                  [128, 256, 3, 2]              \n",
            "  8                  -1  1    460288  ultralytics.nn.modules.C2f                   [256, 256, 1, True]           \n",
            "  9                  -1  1    164608  ultralytics.nn.modules.SPPF                  [256, 256, 5]                 \n",
            " 10                  -1  1         0  torch.nn.modules.upsampling.Upsample         [None, 2, 'nearest']          \n",
            " 11             [-1, 6]  1         0  ultralytics.nn.modules.Concat                [1]                           \n",
            " 12                  -1  1    148224  ultralytics.nn.modules.C2f                   [384, 128, 1]                 \n",
            " 13                  -1  1         0  torch.nn.modules.upsampling.Upsample         [None, 2, 'nearest']          \n",
            " 14             [-1, 4]  1         0  ultralytics.nn.modules.Concat                [1]                           \n",
            " 15                  -1  1     37248  ultralytics.nn.modules.C2f                   [192, 64, 1]                  \n",
            " 16                  -1  1     36992  ultralytics.nn.modules.Conv                  [64, 64, 3, 2]                \n",
            " 17            [-1, 12]  1         0  ultralytics.nn.modules.Concat                [1]                           \n",
            " 18                  -1  1    123648  ultralytics.nn.modules.C2f                   [192, 128, 1]                 \n",
            " 19                  -1  1    147712  ultralytics.nn.modules.Conv                  [128, 128, 3, 2]              \n",
            " 20             [-1, 9]  1         0  ultralytics.nn.modules.Concat                [1]                           \n",
            " 21                  -1  1    493056  ultralytics.nn.modules.C2f                   [384, 256, 1]                 \n",
            " 22        [15, 18, 21]  1    752092  ultralytics.nn.modules.Detect                [4, [64, 128, 256]]           \n",
            "Model summary: 225 layers, 3011628 parameters, 3011612 gradients, 8.2 GFLOPs\n",
            "\n",
            "Transferred 355/355 items from pretrained weights\n",
            "\u001b[34m\u001b[1moptimizer:\u001b[0m SGD(lr=0.01) with parameter groups 57 weight(decay=0.0), 64 weight(decay=0.001), 63 bias\n",
            "\u001b[34m\u001b[1mtrain: \u001b[0mScanning /content/drive/MyDrive/CV-Project/datasets/train/labels.cache... 450 images, 0 backgrounds, 0 corrupt: 100% 450/450 [00:00<?, ?it/s]\n",
            "\u001b[34m\u001b[1malbumentations: \u001b[0mBlur(p=0.01, blur_limit=(3, 7)), MedianBlur(p=0.01, blur_limit=(3, 7)), ToGray(p=0.01), CLAHE(p=0.01, clip_limit=(1, 4.0), tile_grid_size=(8, 8))\n",
            "\u001b[34m\u001b[1mval: \u001b[0mScanning /content/drive/MyDrive/CV-Project/datasets/test/labels.cache... 50 images, 0 backgrounds, 0 corrupt: 100% 50/50 [00:00<?, ?it/s]\n",
            "Image sizes 640 train, 640 val\n",
            "Using 2 dataloader workers\n",
            "Logging results to \u001b[1mruns/detect/train5\u001b[0m\n",
            "Starting training for 103 epochs...\n",
            "\n",
            "      Epoch    GPU_mem   box_loss   cls_loss   dfl_loss  Instances       Size\n",
            "      1/103      3.28G      1.198     0.7257      1.096         34        640: 100% 29/29 [04:45<00:00,  9.83s/it]\n",
            "                 Class     Images  Instances      Box(P          R      mAP50  mAP50-95): 100% 2/2 [00:12<00:00,  6.17s/it]\n",
            "                   all         50        216      0.872      0.781      0.858      0.467\n",
            "                Helmet         50         88      0.929      0.909      0.951      0.589\n",
            "           Safety vest         50         82      0.887      0.859      0.907      0.544\n",
            "        No Safety Vest         50         19      0.854      0.617       0.75       0.36\n",
            "             No Helmet         50         27      0.818      0.741      0.823      0.374\n",
            "\n",
            "      Epoch    GPU_mem   box_loss   cls_loss   dfl_loss  Instances       Size\n",
            "      2/103      3.28G      1.163     0.7139      1.081          4        640: 100% 29/29 [04:39<00:00,  9.63s/it]\n",
            "                 Class     Images  Instances      Box(P          R      mAP50  mAP50-95): 100% 2/2 [00:11<00:00,  5.98s/it]\n",
            "                   all         50        216      0.758      0.828      0.839      0.461\n",
            "                Helmet         50         88      0.788      0.932      0.937      0.583\n",
            "           Safety vest         50         82      0.755      0.939      0.888      0.532\n",
            "        No Safety Vest         50         19      0.857      0.684       0.77      0.361\n",
            "             No Helmet         50         27       0.63      0.757       0.76      0.368\n",
            "\n",
            "      Epoch    GPU_mem   box_loss   cls_loss   dfl_loss  Instances       Size\n",
            "      3/103      3.76G      1.208     0.7283      1.078         17        640: 100% 29/29 [04:38<00:00,  9.62s/it]\n",
            "                 Class     Images  Instances      Box(P          R      mAP50  mAP50-95): 100% 2/2 [00:11<00:00,  5.67s/it]\n",
            "                   all         50        216      0.839      0.671      0.782      0.428\n",
            "                Helmet         50         88      0.885      0.898      0.923      0.539\n",
            "           Safety vest         50         82      0.848      0.878      0.903      0.535\n",
            "        No Safety Vest         50         19      0.745      0.316      0.593      0.302\n",
            "             No Helmet         50         27      0.877      0.593      0.709      0.336\n",
            "\n",
            "      Epoch    GPU_mem   box_loss   cls_loss   dfl_loss  Instances       Size\n",
            "      4/103      4.24G      1.201     0.7272      1.096          8        640: 100% 29/29 [04:38<00:00,  9.61s/it]\n",
            "                 Class     Images  Instances      Box(P          R      mAP50  mAP50-95): 100% 2/2 [00:10<00:00,  5.49s/it]\n",
            "                   all         50        216      0.862      0.748      0.818      0.428\n",
            "                Helmet         50         88      0.931      0.924      0.961      0.567\n",
            "           Safety vest         50         82      0.854      0.841      0.881      0.498\n",
            "        No Safety Vest         50         19      0.808      0.579      0.669      0.334\n",
            "             No Helmet         50         27      0.853      0.648      0.763      0.313\n",
            "\n",
            "      Epoch    GPU_mem   box_loss   cls_loss   dfl_loss  Instances       Size\n",
            "      5/103      4.24G      1.207     0.7423      1.088         32        640: 100% 29/29 [04:35<00:00,  9.51s/it]\n",
            "                 Class     Images  Instances      Box(P          R      mAP50  mAP50-95): 100% 2/2 [00:11<00:00,  5.72s/it]\n",
            "                   all         50        216       0.84      0.783       0.84      0.451\n",
            "                Helmet         50         88      0.957      0.909      0.953       0.57\n",
            "           Safety vest         50         82      0.901      0.888      0.936      0.538\n",
            "        No Safety Vest         50         19      0.723      0.686      0.742      0.349\n",
            "             No Helmet         50         27      0.778      0.649      0.729      0.346\n",
            "\n",
            "      Epoch    GPU_mem   box_loss   cls_loss   dfl_loss  Instances       Size\n",
            "      6/103      4.24G      1.246     0.7411      1.102         22        640: 100% 29/29 [04:36<00:00,  9.55s/it]\n",
            "                 Class     Images  Instances      Box(P          R      mAP50  mAP50-95): 100% 2/2 [00:11<00:00,  5.90s/it]\n",
            "                   all         50        216      0.827      0.694      0.808      0.434\n",
            "                Helmet         50         88      0.952      0.905      0.953      0.579\n",
            "           Safety vest         50         82      0.836       0.89      0.903      0.504\n",
            "        No Safety Vest         50         19      0.711      0.389      0.667      0.322\n",
            "             No Helmet         50         27      0.811      0.593      0.708      0.333\n",
            "\n",
            "      Epoch    GPU_mem   box_loss   cls_loss   dfl_loss  Instances       Size\n",
            "      7/103      4.24G      1.203      0.728      1.082         26        640: 100% 29/29 [04:35<00:00,  9.52s/it]\n",
            "                 Class     Images  Instances      Box(P          R      mAP50  mAP50-95): 100% 2/2 [00:11<00:00,  5.99s/it]\n",
            "                   all         50        216       0.76      0.813      0.797      0.427\n",
            "                Helmet         50         88       0.92      0.911      0.947      0.567\n",
            "           Safety vest         50         82      0.867       0.89      0.897       0.52\n",
            "        No Safety Vest         50         19      0.541      0.808      0.666      0.326\n",
            "             No Helmet         50         27      0.713      0.644      0.678      0.294\n",
            "\n",
            "      Epoch    GPU_mem   box_loss   cls_loss   dfl_loss  Instances       Size\n",
            "      8/103      4.24G      1.185     0.7351      1.091          6        640: 100% 29/29 [04:32<00:00,  9.40s/it]\n",
            "                 Class     Images  Instances      Box(P          R      mAP50  mAP50-95): 100% 2/2 [00:11<00:00,  5.87s/it]\n",
            "                   all         50        216      0.753      0.748       0.79       0.42\n",
            "                Helmet         50         88      0.835       0.92      0.941      0.569\n",
            "           Safety vest         50         82      0.772       0.89        0.9      0.505\n",
            "        No Safety Vest         50         19      0.624      0.524      0.612      0.311\n",
            "             No Helmet         50         27       0.78      0.659      0.708      0.296\n",
            "\n",
            "      Epoch    GPU_mem   box_loss   cls_loss   dfl_loss  Instances       Size\n",
            "      9/103      4.24G      1.227     0.7477      1.112         22        640: 100% 29/29 [04:29<00:00,  9.29s/it]\n",
            "                 Class     Images  Instances      Box(P          R      mAP50  mAP50-95): 100% 2/2 [00:11<00:00,  5.81s/it]\n",
            "                   all         50        216      0.812      0.664      0.796      0.413\n",
            "                Helmet         50         88      0.858      0.909      0.944      0.544\n",
            "           Safety vest         50         82        0.9      0.744      0.887      0.468\n",
            "        No Safety Vest         50         19      0.639      0.579      0.678      0.369\n",
            "             No Helmet         50         27      0.851      0.423      0.675      0.271\n",
            "\n",
            "      Epoch    GPU_mem   box_loss   cls_loss   dfl_loss  Instances       Size\n",
            "     10/103      4.24G      1.206     0.7478      1.088          9        640: 100% 29/29 [04:33<00:00,  9.43s/it]\n",
            "                 Class     Images  Instances      Box(P          R      mAP50  mAP50-95): 100% 2/2 [00:11<00:00,  5.84s/it]\n",
            "                   all         50        216      0.835      0.682      0.791      0.426\n",
            "                Helmet         50         88      0.891      0.886      0.927       0.54\n",
            "           Safety vest         50         82      0.963      0.642      0.851      0.509\n",
            "        No Safety Vest         50         19      0.699      0.789      0.784      0.381\n",
            "             No Helmet         50         27      0.787      0.411      0.601      0.274\n",
            "\n",
            "      Epoch    GPU_mem   box_loss   cls_loss   dfl_loss  Instances       Size\n",
            "     11/103      4.24G      1.211     0.7235      1.085         20        640: 100% 29/29 [04:34<00:00,  9.46s/it]\n",
            "                 Class     Images  Instances      Box(P          R      mAP50  mAP50-95): 100% 2/2 [00:11<00:00,  5.88s/it]\n",
            "                   all         50        216       0.81      0.698      0.769      0.415\n",
            "                Helmet         50         88      0.926      0.852      0.925      0.529\n",
            "           Safety vest         50         82      0.936      0.717      0.882      0.503\n",
            "        No Safety Vest         50         19      0.548      0.632      0.612      0.323\n",
            "             No Helmet         50         27      0.831      0.593      0.656      0.305\n",
            "\n",
            "      Epoch    GPU_mem   box_loss   cls_loss   dfl_loss  Instances       Size\n",
            "     12/103      4.24G      1.187     0.7187      1.074         20        640: 100% 29/29 [04:28<00:00,  9.27s/it]\n",
            "                 Class     Images  Instances      Box(P          R      mAP50  mAP50-95): 100% 2/2 [00:10<00:00,  5.18s/it]\n",
            "                   all         50        216       0.82       0.81       0.85      0.464\n",
            "                Helmet         50         88       0.93       0.91      0.952      0.554\n",
            "           Safety vest         50         82      0.875      0.851      0.903      0.513\n",
            "        No Safety Vest         50         19      0.703      0.737      0.779      0.427\n",
            "             No Helmet         50         27      0.773      0.741      0.765      0.361\n",
            "\n",
            "      Epoch    GPU_mem   box_loss   cls_loss   dfl_loss  Instances       Size\n",
            "     13/103      4.24G      1.197      0.715      1.079          5        640: 100% 29/29 [04:34<00:00,  9.46s/it]\n",
            "                 Class     Images  Instances      Box(P          R      mAP50  mAP50-95): 100% 2/2 [00:10<00:00,  5.29s/it]\n",
            "                   all         50        216      0.796      0.851      0.855      0.477\n",
            "                Helmet         50         88      0.854      0.955      0.962      0.578\n",
            "           Safety vest         50         82      0.884       0.89      0.918      0.532\n",
            "        No Safety Vest         50         19      0.721      0.817      0.799      0.437\n",
            "             No Helmet         50         27      0.726      0.741      0.741      0.363\n",
            "\n",
            "      Epoch    GPU_mem   box_loss   cls_loss   dfl_loss  Instances       Size\n",
            "     14/103      4.24G      1.187     0.7121      1.094         14        640: 100% 29/29 [04:33<00:00,  9.42s/it]\n",
            "                 Class     Images  Instances      Box(P          R      mAP50  mAP50-95): 100% 2/2 [00:10<00:00,  5.34s/it]\n",
            "                   all         50        216      0.751      0.765      0.807      0.431\n",
            "                Helmet         50         88      0.878      0.899      0.946      0.575\n",
            "           Safety vest         50         82       0.85      0.901      0.948       0.53\n",
            "        No Safety Vest         50         19       0.65      0.632      0.661      0.337\n",
            "             No Helmet         50         27      0.625       0.63      0.672      0.284\n",
            "\n",
            "      Epoch    GPU_mem   box_loss   cls_loss   dfl_loss  Instances       Size\n",
            "     15/103      4.24G      1.208     0.7242      1.112         10        640: 100% 29/29 [04:37<00:00,  9.58s/it]\n",
            "                 Class     Images  Instances      Box(P          R      mAP50  mAP50-95): 100% 2/2 [00:11<00:00,  5.86s/it]\n",
            "                   all         50        216      0.832      0.774       0.81      0.426\n",
            "                Helmet         50         88      0.962      0.867       0.95      0.559\n",
            "           Safety vest         50         82      0.932      0.878      0.944      0.533\n",
            "        No Safety Vest         50         19      0.721      0.684      0.705       0.32\n",
            "             No Helmet         50         27      0.713      0.667      0.643       0.29\n",
            "\n",
            "      Epoch    GPU_mem   box_loss   cls_loss   dfl_loss  Instances       Size\n",
            "     16/103      4.24G      1.204     0.7057      1.099          5        640: 100% 29/29 [04:39<00:00,  9.63s/it]\n",
            "                 Class     Images  Instances      Box(P          R      mAP50  mAP50-95): 100% 2/2 [00:11<00:00,  5.91s/it]\n",
            "                   all         50        216      0.815      0.751      0.805      0.435\n",
            "                Helmet         50         88      0.913      0.932      0.955      0.564\n",
            "           Safety vest         50         82      0.809      0.876      0.911      0.536\n",
            "        No Safety Vest         50         19      0.755      0.526      0.607      0.311\n",
            "             No Helmet         50         27      0.783       0.67      0.748      0.328\n",
            "\n",
            "      Epoch    GPU_mem   box_loss   cls_loss   dfl_loss  Instances       Size\n",
            "     17/103      4.24G      1.204     0.7191      1.091         11        640: 100% 29/29 [04:39<00:00,  9.64s/it]\n",
            "                 Class     Images  Instances      Box(P          R      mAP50  mAP50-95): 100% 2/2 [00:10<00:00,  5.33s/it]\n",
            "                   all         50        216      0.902      0.768      0.883      0.476\n",
            "                Helmet         50         88       0.92      0.913      0.943      0.571\n",
            "           Safety vest         50         82      0.934      0.859      0.927      0.541\n",
            "        No Safety Vest         50         19       0.81      0.673      0.832      0.439\n",
            "             No Helmet         50         27      0.944      0.626      0.831      0.355\n",
            "\n",
            "      Epoch    GPU_mem   box_loss   cls_loss   dfl_loss  Instances       Size\n",
            "     18/103      4.24G      1.213     0.7285      1.107         15        640: 100% 29/29 [04:37<00:00,  9.58s/it]\n",
            "                 Class     Images  Instances      Box(P          R      mAP50  mAP50-95): 100% 2/2 [00:11<00:00,  5.77s/it]\n",
            "                   all         50        216      0.777      0.819      0.812      0.434\n",
            "                Helmet         50         88      0.887      0.932      0.947      0.549\n",
            "           Safety vest         50         82      0.901      0.866      0.914      0.537\n",
            "        No Safety Vest         50         19       0.59      0.737       0.65      0.301\n",
            "             No Helmet         50         27      0.732      0.741      0.737      0.349\n",
            "\n",
            "      Epoch    GPU_mem   box_loss   cls_loss   dfl_loss  Instances       Size\n",
            "     19/103      4.24G      1.175     0.6938      1.073         42        640: 100% 29/29 [04:35<00:00,  9.50s/it]\n",
            "                 Class     Images  Instances      Box(P          R      mAP50  mAP50-95): 100% 2/2 [00:11<00:00,  5.75s/it]\n",
            "                   all         50        216      0.865      0.767      0.808      0.432\n",
            "                Helmet         50         88      0.976      0.905      0.961      0.551\n",
            "           Safety vest         50         82      0.938      0.742      0.898      0.513\n",
            "        No Safety Vest         50         19      0.619      0.789      0.653      0.308\n",
            "             No Helmet         50         27      0.928       0.63      0.721      0.357\n",
            "\n",
            "      Epoch    GPU_mem   box_loss   cls_loss   dfl_loss  Instances       Size\n",
            "     20/103      4.24G       1.18     0.7011      1.059         37        640: 100% 29/29 [04:31<00:00,  9.38s/it]\n",
            "                 Class     Images  Instances      Box(P          R      mAP50  mAP50-95): 100% 2/2 [00:11<00:00,  5.72s/it]\n",
            "                   all         50        216      0.815      0.798      0.829      0.425\n",
            "                Helmet         50         88      0.898      0.904      0.951      0.538\n",
            "           Safety vest         50         82      0.895      0.833      0.911       0.53\n",
            "        No Safety Vest         50         19      0.598      0.789      0.705      0.318\n",
            "             No Helmet         50         27      0.868      0.667      0.748      0.315\n",
            "\n",
            "      Epoch    GPU_mem   box_loss   cls_loss   dfl_loss  Instances       Size\n",
            "     21/103      4.76G      1.168     0.6734      1.062         19        640: 100% 29/29 [04:33<00:00,  9.43s/it]\n",
            "                 Class     Images  Instances      Box(P          R      mAP50  mAP50-95): 100% 2/2 [00:11<00:00,  5.81s/it]\n",
            "                   all         50        216      0.811      0.773      0.819      0.407\n",
            "                Helmet         50         88      0.871      0.886      0.908      0.536\n",
            "           Safety vest         50         82      0.825      0.854      0.877        0.5\n",
            "        No Safety Vest         50         19      0.647      0.684      0.655      0.287\n",
            "             No Helmet         50         27        0.9      0.667      0.834      0.305\n",
            "\n",
            "      Epoch    GPU_mem   box_loss   cls_loss   dfl_loss  Instances       Size\n",
            "     22/103      4.76G      1.134      0.669       1.06         28        640: 100% 29/29 [04:37<00:00,  9.58s/it]\n",
            "                 Class     Images  Instances      Box(P          R      mAP50  mAP50-95): 100% 2/2 [00:11<00:00,  5.82s/it]\n",
            "                   all         50        216      0.863      0.774      0.831      0.434\n",
            "                Helmet         50         88      0.918      0.932      0.946      0.547\n",
            "           Safety vest         50         82      0.857      0.878      0.872       0.52\n",
            "        No Safety Vest         50         19      0.688      0.581      0.691      0.303\n",
            "             No Helmet         50         27      0.989      0.704      0.816      0.365\n",
            "\n",
            "      Epoch    GPU_mem   box_loss   cls_loss   dfl_loss  Instances       Size\n",
            "     23/103      4.76G      1.153     0.6766      1.083         12        640: 100% 29/29 [04:34<00:00,  9.46s/it]\n",
            "                 Class     Images  Instances      Box(P          R      mAP50  mAP50-95): 100% 2/2 [00:11<00:00,  5.85s/it]\n",
            "                   all         50        216      0.876      0.799      0.843      0.444\n",
            "                Helmet         50         88      0.902      0.898      0.942      0.556\n",
            "           Safety vest         50         82      0.918      0.854      0.905      0.529\n",
            "        No Safety Vest         50         19      0.737      0.789      0.776       0.36\n",
            "             No Helmet         50         27      0.947      0.657      0.749      0.333\n",
            "\n",
            "      Epoch    GPU_mem   box_loss   cls_loss   dfl_loss  Instances       Size\n",
            "     24/103      4.76G      1.138     0.6723      1.066          8        640: 100% 29/29 [04:39<00:00,  9.64s/it]\n",
            "                 Class     Images  Instances      Box(P          R      mAP50  mAP50-95): 100% 2/2 [00:10<00:00,  5.27s/it]\n",
            "                   all         50        216       0.83      0.758       0.82      0.449\n",
            "                Helmet         50         88       0.89      0.921      0.945      0.584\n",
            "           Safety vest         50         82      0.854      0.866      0.914      0.543\n",
            "        No Safety Vest         50         19      0.768      0.579      0.706      0.344\n",
            "             No Helmet         50         27      0.808      0.667      0.717      0.324\n",
            "\n",
            "      Epoch    GPU_mem   box_loss   cls_loss   dfl_loss  Instances       Size\n",
            "     25/103      4.76G      1.128     0.6574      1.063         25        640: 100% 29/29 [04:34<00:00,  9.45s/it]\n",
            "                 Class     Images  Instances      Box(P          R      mAP50  mAP50-95): 100% 2/2 [00:10<00:00,  5.38s/it]\n",
            "                   all         50        216      0.806      0.833      0.846      0.451\n",
            "                Helmet         50         88        0.9      0.943      0.945      0.565\n",
            "           Safety vest         50         82      0.874      0.902      0.926      0.529\n",
            "        No Safety Vest         50         19       0.65      0.782      0.772      0.389\n",
            "             No Helmet         50         27      0.799      0.704      0.742      0.319\n",
            "\n",
            "      Epoch    GPU_mem   box_loss   cls_loss   dfl_loss  Instances       Size\n",
            "     26/103      4.76G      1.136     0.6736      1.069         22        640: 100% 29/29 [04:22<00:00,  9.06s/it]\n",
            "                 Class     Images  Instances      Box(P          R      mAP50  mAP50-95): 100% 2/2 [00:11<00:00,  5.78s/it]\n",
            "                   all         50        216      0.841      0.765      0.843      0.463\n",
            "                Helmet         50         88      0.952      0.907      0.934      0.553\n",
            "           Safety vest         50         82      0.851      0.906      0.911      0.526\n",
            "        No Safety Vest         50         19      0.821      0.579      0.803      0.418\n",
            "             No Helmet         50         27      0.741      0.667      0.725      0.355\n",
            "\n",
            "      Epoch    GPU_mem   box_loss   cls_loss   dfl_loss  Instances       Size\n",
            "     27/103      4.76G      1.116     0.6669      1.054          8        640: 100% 29/29 [04:26<00:00,  9.20s/it]\n",
            "                 Class     Images  Instances      Box(P          R      mAP50  mAP50-95): 100% 2/2 [00:11<00:00,  5.51s/it]\n",
            "                   all         50        216      0.821      0.771      0.814      0.444\n",
            "                Helmet         50         88      0.818      0.943      0.933      0.558\n",
            "           Safety vest         50         82      0.831       0.89      0.884      0.493\n",
            "        No Safety Vest         50         19      0.788      0.632      0.751      0.394\n",
            "             No Helmet         50         27      0.848      0.618       0.69      0.329\n",
            "\n",
            "      Epoch    GPU_mem   box_loss   cls_loss   dfl_loss  Instances       Size\n",
            "     28/103      4.76G      1.127     0.6764      1.062          8        640: 100% 29/29 [04:38<00:00,  9.59s/it]\n",
            "                 Class     Images  Instances      Box(P          R      mAP50  mAP50-95): 100% 2/2 [00:11<00:00,  5.79s/it]\n",
            "                   all         50        216      0.863      0.737      0.823      0.446\n",
            "                Helmet         50         88       0.95      0.886      0.942      0.564\n",
            "           Safety vest         50         82        0.8      0.915      0.907      0.501\n",
            "        No Safety Vest         50         19      0.864      0.579      0.782      0.415\n",
            "             No Helmet         50         27      0.837      0.569      0.661      0.303\n",
            "\n",
            "      Epoch    GPU_mem   box_loss   cls_loss   dfl_loss  Instances       Size\n",
            "     29/103      4.76G      1.119     0.6601      1.061         11        640: 100% 29/29 [04:30<00:00,  9.32s/it]\n",
            "                 Class     Images  Instances      Box(P          R      mAP50  mAP50-95): 100% 2/2 [00:10<00:00,  5.37s/it]\n",
            "                   all         50        216      0.803      0.797      0.843      0.445\n",
            "                Helmet         50         88      0.853      0.932      0.949      0.547\n",
            "           Safety vest         50         82      0.771      0.902      0.908      0.528\n",
            "        No Safety Vest         50         19      0.713      0.842      0.764      0.365\n",
            "             No Helmet         50         27      0.874      0.513      0.754      0.342\n",
            "\n",
            "      Epoch    GPU_mem   box_loss   cls_loss   dfl_loss  Instances       Size\n",
            "     30/103      4.76G      1.151     0.6681      1.081         31        640: 100% 29/29 [04:36<00:00,  9.55s/it]\n",
            "                 Class     Images  Instances      Box(P          R      mAP50  mAP50-95): 100% 2/2 [00:11<00:00,  5.78s/it]\n",
            "                   all         50        216      0.837      0.805      0.856      0.452\n",
            "                Helmet         50         88      0.897      0.889      0.956      0.548\n",
            "           Safety vest         50         82      0.824      0.854      0.898      0.511\n",
            "        No Safety Vest         50         19      0.848      0.884      0.865      0.408\n",
            "             No Helmet         50         27      0.778      0.593      0.705      0.339\n",
            "\n",
            "      Epoch    GPU_mem   box_loss   cls_loss   dfl_loss  Instances       Size\n",
            "     31/103      4.76G      1.106     0.6558      1.043         27        640: 100% 29/29 [04:35<00:00,  9.49s/it]\n",
            "                 Class     Images  Instances      Box(P          R      mAP50  mAP50-95): 100% 2/2 [00:11<00:00,  5.81s/it]\n",
            "                   all         50        216      0.849      0.754      0.834      0.456\n",
            "                Helmet         50         88      0.895      0.886      0.947      0.561\n",
            "           Safety vest         50         82      0.872      0.841      0.896      0.541\n",
            "        No Safety Vest         50         19      0.867      0.684      0.814       0.39\n",
            "             No Helmet         50         27      0.765      0.603       0.68       0.33\n",
            "\n",
            "      Epoch    GPU_mem   box_loss   cls_loss   dfl_loss  Instances       Size\n",
            "     32/103      4.76G        1.1     0.6412      1.056         22        640: 100% 29/29 [04:37<00:00,  9.56s/it]\n",
            "                 Class     Images  Instances      Box(P          R      mAP50  mAP50-95): 100% 2/2 [00:11<00:00,  5.83s/it]\n",
            "                   all         50        216      0.774      0.798      0.831      0.449\n",
            "                Helmet         50         88      0.844      0.909      0.924      0.541\n",
            "           Safety vest         50         82      0.845      0.878      0.895      0.539\n",
            "        No Safety Vest         50         19      0.677      0.662      0.708      0.344\n",
            "             No Helmet         50         27       0.73      0.741      0.798      0.372\n",
            "\n",
            "      Epoch    GPU_mem   box_loss   cls_loss   dfl_loss  Instances       Size\n",
            "     33/103      4.76G      1.087     0.6047      1.041         13        640: 100% 29/29 [04:34<00:00,  9.45s/it]\n",
            "                 Class     Images  Instances      Box(P          R      mAP50  mAP50-95): 100% 2/2 [00:11<00:00,  5.85s/it]\n",
            "                   all         50        216      0.819      0.824      0.852      0.441\n",
            "                Helmet         50         88      0.951      0.943      0.957      0.548\n",
            "           Safety vest         50         82      0.869      0.888      0.915      0.519\n",
            "        No Safety Vest         50         19      0.684      0.798      0.768      0.362\n",
            "             No Helmet         50         27      0.771      0.667      0.767      0.336\n",
            "\n",
            "      Epoch    GPU_mem   box_loss   cls_loss   dfl_loss  Instances       Size\n",
            "     34/103      4.76G      1.077     0.6252      1.042          8        640: 100% 29/29 [04:32<00:00,  9.38s/it]\n",
            "                 Class     Images  Instances      Box(P          R      mAP50  mAP50-95): 100% 2/2 [00:11<00:00,  5.88s/it]\n",
            "                   all         50        216      0.891      0.757      0.854      0.449\n",
            "                Helmet         50         88      0.964      0.864      0.958      0.567\n",
            "           Safety vest         50         82      0.896       0.89      0.918       0.52\n",
            "        No Safety Vest         50         19      0.761      0.684      0.752      0.357\n",
            "             No Helmet         50         27      0.941      0.591      0.789      0.351\n",
            "\n",
            "      Epoch    GPU_mem   box_loss   cls_loss   dfl_loss  Instances       Size\n",
            "     35/103      4.76G      1.063     0.6129      1.038         23        640: 100% 29/29 [04:34<00:00,  9.48s/it]\n",
            "                 Class     Images  Instances      Box(P          R      mAP50  mAP50-95): 100% 2/2 [00:11<00:00,  5.76s/it]\n",
            "                   all         50        216      0.858      0.804      0.838      0.443\n",
            "                Helmet         50         88      0.945      0.909      0.949      0.559\n",
            "           Safety vest         50         82       0.88      0.902      0.924      0.546\n",
            "        No Safety Vest         50         19      0.726      0.737      0.716      0.355\n",
            "             No Helmet         50         27      0.882      0.667      0.763      0.309\n",
            "\n",
            "      Epoch    GPU_mem   box_loss   cls_loss   dfl_loss  Instances       Size\n",
            "     36/103      5.33G      1.059     0.6219      1.028         14        640: 100% 29/29 [04:35<00:00,  9.50s/it]\n",
            "                 Class     Images  Instances      Box(P          R      mAP50  mAP50-95): 100% 2/2 [00:10<00:00,  5.31s/it]\n",
            "                   all         50        216      0.786      0.822      0.823      0.433\n",
            "                Helmet         50         88      0.878      0.955      0.954      0.558\n",
            "           Safety vest         50         82      0.837      0.915      0.916      0.517\n",
            "        No Safety Vest         50         19      0.702      0.789       0.74      0.354\n",
            "             No Helmet         50         27      0.728       0.63       0.68      0.302\n",
            "\n",
            "      Epoch    GPU_mem   box_loss   cls_loss   dfl_loss  Instances       Size\n",
            "     37/103      5.33G      1.057     0.6115      1.027          8        640: 100% 29/29 [04:30<00:00,  9.34s/it]\n",
            "                 Class     Images  Instances      Box(P          R      mAP50  mAP50-95): 100% 2/2 [00:11<00:00,  5.84s/it]\n",
            "                   all         50        216      0.869      0.761      0.837       0.46\n",
            "                Helmet         50         88      0.929      0.889      0.958      0.579\n",
            "           Safety vest         50         82      0.876       0.89      0.914      0.531\n",
            "        No Safety Vest         50         19      0.884      0.579      0.756      0.371\n",
            "             No Helmet         50         27      0.787      0.684      0.721      0.357\n",
            "\n",
            "      Epoch    GPU_mem   box_loss   cls_loss   dfl_loss  Instances       Size\n",
            "     38/103      5.33G      1.079     0.6228      1.036        152        640:  24% 7/29 [01:20<04:06, 11.19s/it]"
          ]
        }
      ]
    },
    {
      "cell_type": "code",
      "source": [],
      "metadata": {
        "id": "wmwpogviTQt4"
      },
      "execution_count": null,
      "outputs": []
    }
  ]
}